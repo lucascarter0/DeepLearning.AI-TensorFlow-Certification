{
  "nbformat": 4,
  "nbformat_minor": 0,
  "metadata": {
    "colab": {
      "name": "CNN_Multiclass_Classifier.ipynb",
      "provenance": [],
      "collapsed_sections": [],
      "authorship_tag": "ABX9TyPFoGxmdw9xHc+DuUCYRN/H",
      "include_colab_link": true
    },
    "kernelspec": {
      "name": "python3",
      "display_name": "Python 3"
    },
    "language_info": {
      "name": "python"
    }
  },
  "cells": [
    {
      "cell_type": "markdown",
      "metadata": {
        "id": "view-in-github",
        "colab_type": "text"
      },
      "source": [
        "<a href=\"https://colab.research.google.com/github/lucascarter0/DeepLearning.AI-TensorFlow-Certification/blob/main/CNN_Multiclass_Classifier.ipynb\" target=\"_parent\"><img src=\"https://colab.research.google.com/assets/colab-badge.svg\" alt=\"Open In Colab\"/></a>"
      ]
    },
    {
      "cell_type": "markdown",
      "metadata": {
        "id": "fg9nlXXVcVv9"
      },
      "source": [
        "Notebook for Week 4 of the Convolutional Neural Network course - notebook trains a multi-class classifier on the MNIST digit database."
      ]
    },
    {
      "cell_type": "code",
      "metadata": {
        "id": "AxH6a-GGbvWy"
      },
      "source": [
        "import csv\n",
        "from os import getcwd\n",
        "import numpy as np\n",
        "import matplotlib.pyplot as plt\n",
        "\n",
        "import tensorflow as tf\n",
        "from tensorflow.keras.preprocessing.image import ImageDataGenerator\n",
        "from tensorflow.keras.optimizers import RMSprop\n",
        "from keras.datasets import mnist"
      ],
      "execution_count": 20,
      "outputs": []
    },
    {
      "cell_type": "code",
      "metadata": {
        "id": "HZY4upJQc8Pp"
      },
      "source": [
        "# Load MNIST data and format it for training in the model\n",
        "(training_images, training_labels), (testing_images, testing_labels) = mnist.load_data()\n",
        "training_images = np.expand_dims(training_images, axis=3)\n",
        "testing_images = np.expand_dims(testing_images, axis=3)"
      ],
      "execution_count": 21,
      "outputs": []
    },
    {
      "cell_type": "code",
      "metadata": {
        "id": "UIQGYvte3OyA"
      },
      "source": [
        "# Create an ImageDataGenerator to do image augmentation on training set\n",
        "train_datagen = ImageDataGenerator(\n",
        "      rescale = 1./255,\n",
        "      rotation_range=40,\n",
        "      width_shift_range=0.2,\n",
        "      height_shift_range=0.2,\n",
        "      shear_range=0.2,\n",
        "      zoom_range=0.2,\n",
        "      horizontal_flip=True,\n",
        "      fill_mode='nearest')\n",
        "\n",
        "# Validation data also using generator, but only to scale image color\n",
        "validation_datagen = ImageDataGenerator(rescale = 1./255)\n",
        "\n",
        "train_generator = train_datagen.flow(training_images, training_labels, batch_size=20)\n",
        "\n",
        "validation_generator = validation_datagen.flow(testing_images, testing_labels, batch_size=20)\n"
      ],
      "execution_count": 22,
      "outputs": []
    },
    {
      "cell_type": "code",
      "metadata": {
        "id": "snc26Ta_4mxk"
      },
      "source": [
        "# Create a model with two convolution layers and two pooling layers\n",
        "model = tf.keras.models.Sequential([\n",
        "    tf.keras.layers.Conv2D(32, (3, 3), activation='relu', input_shape=(28, 28, 1)),\n",
        "    tf.keras.layers.MaxPooling2D(2, 2),\n",
        "    tf.keras.layers.Conv2D(32, (3, 3), activation='relu'),\n",
        "    tf.keras.layers.MaxPooling2D(2, 2),\n",
        "    tf.keras.layers.Flatten(),\n",
        "    tf.keras.layers.Dense(512, activation='relu'),\n",
        "    tf.keras.layers.Dense(26, activation='softmax')\n",
        "    ])\n",
        "\n",
        "# Compile Model. Using the sparse crossentropy loss for the multiclass data\n",
        "model.compile(loss='sparse_categorical_crossentropy',\n",
        "              optimizer=RMSprop(learning_rate=0.001),\n",
        "              metrics=['accuracy'])"
      ],
      "execution_count": 30,
      "outputs": []
    },
    {
      "cell_type": "code",
      "metadata": {
        "id": "CigxESSP6u7w"
      },
      "source": [
        "# Define a Callback class that stops training once accuracy reaches 90.0%\n",
        "class myCallback(tf.keras.callbacks.Callback):\n",
        "  def on_epoch_end(self, epoch, logs={}):\n",
        "    if(logs.get('accuracy') > 0.9):\n",
        "      print(\"\\nReached 98.0% accuracy, cancelling training\")\n",
        "      self.model.stop_training = True"
      ],
      "execution_count": 29,
      "outputs": []
    },
    {
      "cell_type": "code",
      "metadata": {
        "colab": {
          "base_uri": "https://localhost:8080/"
        },
        "id": "JblBvbZc3UPB",
        "outputId": "88bed2f0-7031-4cbc-9a31-08c9fcc1647d"
      },
      "source": [
        "# Train and evaluate model - train on 10 epochs, but model will exit at 90% accuracy\n",
        "history = model.fit(train_generator,\n",
        "                    validation_data=validation_generator,\n",
        "                    epochs=10,\n",
        "                    callbacks=[myCallback()])\n",
        "\n",
        "model.evaluate(testing_images, testing_labels, verbose=2)"
      ],
      "execution_count": 32,
      "outputs": [
        {
          "output_type": "stream",
          "name": "stdout",
          "text": [
            "313/313 - 3s - loss: 2065.4612 - accuracy: 0.5692 - 3s/epoch - 9ms/step\n"
          ]
        },
        {
          "output_type": "execute_result",
          "data": {
            "text/plain": [
              "[2065.461181640625, 0.5691999793052673]"
            ]
          },
          "metadata": {},
          "execution_count": 32
        }
      ]
    },
    {
      "cell_type": "code",
      "metadata": {
        "colab": {
          "base_uri": "https://localhost:8080/",
          "height": 625
        },
        "id": "FsKmTxdW3Zkn",
        "outputId": "2dbf40a3-a04d-4217-97a3-39c8f4578b45"
      },
      "source": [
        "%matplotlib inline\n",
        "acc = history.history['accuracy']\n",
        "val_acc = history.history['val_accuracy']\n",
        "loss = history.history['loss']\n",
        "val_loss = history.history['val_loss']\n",
        "\n",
        "epochs = range(len(acc))\n",
        "\n",
        "fig, (ax0, ax1) = plt.subplots(nrows=2, figsize=(10, 10))\n",
        "ax0.plot(epochs, acc, 'r', label='Training accuracy')\n",
        "ax0.plot(epochs, val_acc, 'b', label='Validation accuracy')\n",
        "ax0.set_title('Training and validation accuracy')\n",
        "ax0.legend()\n",
        "\n",
        "ax1.plot(epochs, loss, 'r', label='Training Loss')\n",
        "ax1.plot(epochs, val_loss, 'b', label='Validation Loss')\n",
        "ax1.set_title('Training and validation loss')\n",
        "ax1.legend()\n"
      ],
      "execution_count": 34,
      "outputs": [
        {
          "output_type": "execute_result",
          "data": {
            "text/plain": [
              "<matplotlib.legend.Legend at 0x7f0981a8f1d0>"
            ]
          },
          "metadata": {},
          "execution_count": 34
        },
        {
          "output_type": "display_data",
          "data": {
            "image/png": "[encoded data removed]",
            "text/plain": [
              "<Figure size 720x720 with 2 Axes>"
            ]
          },
          "metadata": {
            "needs_background": "light"
          }
        }
      ]
    }
  ]
}